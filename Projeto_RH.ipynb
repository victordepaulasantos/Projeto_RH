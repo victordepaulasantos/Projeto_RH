{
 "cells": [
  {
   "cell_type": "markdown",
   "id": "improving-ground",
   "metadata": {},
   "source": [
    "<img src=\"https://cio.com.br/wp-content/uploads/2019/02/RH_1030536982.jpg\">"
   ]
  },
  {
   "cell_type": "markdown",
   "id": "canadian-timer",
   "metadata": {},
   "source": [
    "Não é novidade que com a chegada da pandemia milhões de brasileiros viram as portas de trabalho se fechar. Serviços de alimentação, fabricação de veículos automotores, transportes aéreos, hotéis, dentre outras atividades de emprego entraram nas estatísticas dos setores econômicos que mais sofreram o impacto da pandemia da COVID-19 no Brasil, segundo o site do Governo Federal (MINISTÉRIO DA ECONOMIA, 2020). Contudo, houve setores que mostraram um grande aumento em novas contratações, principalmente, no setor tecnológico. As empresas passaram a ter uma rotatividade de profissionais significativamente grande. \n",
    "Nesse sentido, o objetivo deste projeto é desenvolver um sistema de identificação de pessoas que podem deixar a empresa. Assim, a equipe de RH poderá se antecipar a possível saída de um funcionário ao propor algum tipo de incentivo. \n",
    "Será utilizada duas técnicas de aprendizado de máquina, a saber: KNN, método de classificação e Decision Tree, método utilizado como árvore de decisão. Após serem avaliadas entre si, o método que apresentar melhor acurácia será a escolhida.\n",
    "\n",
    "Fonte:https://www.gov.br/economia/pt-br/assuntos/noticias/2020/setembro/ministerio-da-economia-divulga-lista-dos-setores-mais-afetados-pela-pandemia-da-covid-19-no-brasil"
   ]
  },
  {
   "cell_type": "code",
   "execution_count": 250,
   "id": "united-amino",
   "metadata": {},
   "outputs": [],
   "source": [
    "# importação das bibliotecas\n",
    "\n",
    "import pandas as pd\n",
    "import matplotlib.pyplot as plt"
   ]
  },
  {
   "cell_type": "code",
   "execution_count": 251,
   "id": "quick-manual",
   "metadata": {},
   "outputs": [],
   "source": [
    "df = pd.read_csv('C:\\\\Users\\\\Victor Santos\\\\Desktop\\\\IMPACTA\\\\modelagem_rh.csv')"
   ]
  },
  {
   "cell_type": "code",
   "execution_count": 252,
   "id": "inside-sympathy",
   "metadata": {},
   "outputs": [
    {
     "data": {
      "text/html": [
       "<div>\n",
       "<style scoped>\n",
       "    .dataframe tbody tr th:only-of-type {\n",
       "        vertical-align: middle;\n",
       "    }\n",
       "\n",
       "    .dataframe tbody tr th {\n",
       "        vertical-align: top;\n",
       "    }\n",
       "\n",
       "    .dataframe thead th {\n",
       "        text-align: right;\n",
       "    }\n",
       "</style>\n",
       "<table border=\"1\" class=\"dataframe\">\n",
       "  <thead>\n",
       "    <tr style=\"text-align: right;\">\n",
       "      <th></th>\n",
       "      <th>nivel_satisfacao</th>\n",
       "      <th>ult_avaliacao</th>\n",
       "      <th>num_projetos</th>\n",
       "      <th>media_horas_mes</th>\n",
       "      <th>tempo_empresa</th>\n",
       "      <th>aci_trabalho</th>\n",
       "      <th>saiu</th>\n",
       "      <th>promocao_ult_5anos</th>\n",
       "      <th>departamento</th>\n",
       "      <th>salario</th>\n",
       "    </tr>\n",
       "  </thead>\n",
       "  <tbody>\n",
       "    <tr>\n",
       "      <th>0</th>\n",
       "      <td>0.38</td>\n",
       "      <td>0.53</td>\n",
       "      <td>2</td>\n",
       "      <td>157</td>\n",
       "      <td>3</td>\n",
       "      <td>0</td>\n",
       "      <td>1</td>\n",
       "      <td>0</td>\n",
       "      <td>sales</td>\n",
       "      <td>low</td>\n",
       "    </tr>\n",
       "    <tr>\n",
       "      <th>1</th>\n",
       "      <td>0.80</td>\n",
       "      <td>0.86</td>\n",
       "      <td>5</td>\n",
       "      <td>262</td>\n",
       "      <td>6</td>\n",
       "      <td>0</td>\n",
       "      <td>1</td>\n",
       "      <td>0</td>\n",
       "      <td>sales</td>\n",
       "      <td>medium</td>\n",
       "    </tr>\n",
       "    <tr>\n",
       "      <th>2</th>\n",
       "      <td>0.11</td>\n",
       "      <td>0.88</td>\n",
       "      <td>7</td>\n",
       "      <td>272</td>\n",
       "      <td>4</td>\n",
       "      <td>0</td>\n",
       "      <td>1</td>\n",
       "      <td>0</td>\n",
       "      <td>sales</td>\n",
       "      <td>medium</td>\n",
       "    </tr>\n",
       "    <tr>\n",
       "      <th>3</th>\n",
       "      <td>0.72</td>\n",
       "      <td>0.87</td>\n",
       "      <td>5</td>\n",
       "      <td>223</td>\n",
       "      <td>5</td>\n",
       "      <td>0</td>\n",
       "      <td>1</td>\n",
       "      <td>0</td>\n",
       "      <td>sales</td>\n",
       "      <td>low</td>\n",
       "    </tr>\n",
       "    <tr>\n",
       "      <th>4</th>\n",
       "      <td>0.37</td>\n",
       "      <td>0.52</td>\n",
       "      <td>2</td>\n",
       "      <td>159</td>\n",
       "      <td>3</td>\n",
       "      <td>0</td>\n",
       "      <td>1</td>\n",
       "      <td>0</td>\n",
       "      <td>sales</td>\n",
       "      <td>low</td>\n",
       "    </tr>\n",
       "    <tr>\n",
       "      <th>...</th>\n",
       "      <td>...</td>\n",
       "      <td>...</td>\n",
       "      <td>...</td>\n",
       "      <td>...</td>\n",
       "      <td>...</td>\n",
       "      <td>...</td>\n",
       "      <td>...</td>\n",
       "      <td>...</td>\n",
       "      <td>...</td>\n",
       "      <td>...</td>\n",
       "    </tr>\n",
       "    <tr>\n",
       "      <th>14994</th>\n",
       "      <td>0.40</td>\n",
       "      <td>0.57</td>\n",
       "      <td>2</td>\n",
       "      <td>151</td>\n",
       "      <td>3</td>\n",
       "      <td>0</td>\n",
       "      <td>1</td>\n",
       "      <td>0</td>\n",
       "      <td>support</td>\n",
       "      <td>low</td>\n",
       "    </tr>\n",
       "    <tr>\n",
       "      <th>14995</th>\n",
       "      <td>0.37</td>\n",
       "      <td>0.48</td>\n",
       "      <td>2</td>\n",
       "      <td>160</td>\n",
       "      <td>3</td>\n",
       "      <td>0</td>\n",
       "      <td>1</td>\n",
       "      <td>0</td>\n",
       "      <td>support</td>\n",
       "      <td>low</td>\n",
       "    </tr>\n",
       "    <tr>\n",
       "      <th>14996</th>\n",
       "      <td>0.37</td>\n",
       "      <td>0.53</td>\n",
       "      <td>2</td>\n",
       "      <td>143</td>\n",
       "      <td>3</td>\n",
       "      <td>0</td>\n",
       "      <td>1</td>\n",
       "      <td>0</td>\n",
       "      <td>support</td>\n",
       "      <td>low</td>\n",
       "    </tr>\n",
       "    <tr>\n",
       "      <th>14997</th>\n",
       "      <td>0.11</td>\n",
       "      <td>0.96</td>\n",
       "      <td>6</td>\n",
       "      <td>280</td>\n",
       "      <td>4</td>\n",
       "      <td>0</td>\n",
       "      <td>1</td>\n",
       "      <td>0</td>\n",
       "      <td>support</td>\n",
       "      <td>low</td>\n",
       "    </tr>\n",
       "    <tr>\n",
       "      <th>14998</th>\n",
       "      <td>0.37</td>\n",
       "      <td>0.52</td>\n",
       "      <td>2</td>\n",
       "      <td>158</td>\n",
       "      <td>3</td>\n",
       "      <td>0</td>\n",
       "      <td>1</td>\n",
       "      <td>0</td>\n",
       "      <td>support</td>\n",
       "      <td>low</td>\n",
       "    </tr>\n",
       "  </tbody>\n",
       "</table>\n",
       "<p>14999 rows × 10 columns</p>\n",
       "</div>"
      ],
      "text/plain": [
       "       nivel_satisfacao  ult_avaliacao  num_projetos  media_horas_mes  \\\n",
       "0                  0.38           0.53             2              157   \n",
       "1                  0.80           0.86             5              262   \n",
       "2                  0.11           0.88             7              272   \n",
       "3                  0.72           0.87             5              223   \n",
       "4                  0.37           0.52             2              159   \n",
       "...                 ...            ...           ...              ...   \n",
       "14994              0.40           0.57             2              151   \n",
       "14995              0.37           0.48             2              160   \n",
       "14996              0.37           0.53             2              143   \n",
       "14997              0.11           0.96             6              280   \n",
       "14998              0.37           0.52             2              158   \n",
       "\n",
       "       tempo_empresa  aci_trabalho  saiu  promocao_ult_5anos departamento  \\\n",
       "0                  3             0     1                   0        sales   \n",
       "1                  6             0     1                   0        sales   \n",
       "2                  4             0     1                   0        sales   \n",
       "3                  5             0     1                   0        sales   \n",
       "4                  3             0     1                   0        sales   \n",
       "...              ...           ...   ...                 ...          ...   \n",
       "14994              3             0     1                   0      support   \n",
       "14995              3             0     1                   0      support   \n",
       "14996              3             0     1                   0      support   \n",
       "14997              4             0     1                   0      support   \n",
       "14998              3             0     1                   0      support   \n",
       "\n",
       "      salario  \n",
       "0         low  \n",
       "1      medium  \n",
       "2      medium  \n",
       "3         low  \n",
       "4         low  \n",
       "...       ...  \n",
       "14994     low  \n",
       "14995     low  \n",
       "14996     low  \n",
       "14997     low  \n",
       "14998     low  \n",
       "\n",
       "[14999 rows x 10 columns]"
      ]
     },
     "execution_count": 252,
     "metadata": {},
     "output_type": "execute_result"
    }
   ],
   "source": [
    "df"
   ]
  },
  {
   "cell_type": "markdown",
   "id": "invalid-canyon",
   "metadata": {},
   "source": [
    "### Análise descritiva do conjuntos de dados"
   ]
  },
  {
   "cell_type": "code",
   "execution_count": 253,
   "id": "greater-inspection",
   "metadata": {},
   "outputs": [
    {
     "name": "stdout",
     "output_type": "stream",
     "text": [
      "<class 'pandas.core.frame.DataFrame'>\n",
      "RangeIndex: 14999 entries, 0 to 14998\n",
      "Data columns (total 10 columns):\n",
      " #   Column              Non-Null Count  Dtype  \n",
      "---  ------              --------------  -----  \n",
      " 0   nivel_satisfacao    14978 non-null  float64\n",
      " 1   ult_avaliacao       14999 non-null  float64\n",
      " 2   num_projetos        14999 non-null  int64  \n",
      " 3   media_horas_mes     14999 non-null  int64  \n",
      " 4   tempo_empresa       14999 non-null  int64  \n",
      " 5   aci_trabalho        14999 non-null  int64  \n",
      " 6   saiu                14999 non-null  int64  \n",
      " 7   promocao_ult_5anos  14999 non-null  int64  \n",
      " 8   departamento        14999 non-null  object \n",
      " 9   salario             14999 non-null  object \n",
      "dtypes: float64(2), int64(6), object(2)\n",
      "memory usage: 1.1+ MB\n"
     ]
    }
   ],
   "source": [
    "df.info()"
   ]
  },
  {
   "cell_type": "code",
   "execution_count": 254,
   "id": "electrical-horizon",
   "metadata": {},
   "outputs": [
    {
     "data": {
      "text/html": [
       "<div>\n",
       "<style scoped>\n",
       "    .dataframe tbody tr th:only-of-type {\n",
       "        vertical-align: middle;\n",
       "    }\n",
       "\n",
       "    .dataframe tbody tr th {\n",
       "        vertical-align: top;\n",
       "    }\n",
       "\n",
       "    .dataframe thead th {\n",
       "        text-align: right;\n",
       "    }\n",
       "</style>\n",
       "<table border=\"1\" class=\"dataframe\">\n",
       "  <thead>\n",
       "    <tr style=\"text-align: right;\">\n",
       "      <th></th>\n",
       "      <th>nivel_satisfacao</th>\n",
       "      <th>ult_avaliacao</th>\n",
       "      <th>num_projetos</th>\n",
       "      <th>media_horas_mes</th>\n",
       "      <th>tempo_empresa</th>\n",
       "      <th>aci_trabalho</th>\n",
       "      <th>saiu</th>\n",
       "      <th>promocao_ult_5anos</th>\n",
       "    </tr>\n",
       "  </thead>\n",
       "  <tbody>\n",
       "    <tr>\n",
       "      <th>count</th>\n",
       "      <td>14978.000000</td>\n",
       "      <td>14999.000000</td>\n",
       "      <td>14999.000000</td>\n",
       "      <td>14999.000000</td>\n",
       "      <td>14999.000000</td>\n",
       "      <td>14999.000000</td>\n",
       "      <td>14999.000000</td>\n",
       "      <td>14999.000000</td>\n",
       "    </tr>\n",
       "    <tr>\n",
       "      <th>mean</th>\n",
       "      <td>0.612828</td>\n",
       "      <td>0.716102</td>\n",
       "      <td>3.803054</td>\n",
       "      <td>201.050337</td>\n",
       "      <td>3.498233</td>\n",
       "      <td>0.144610</td>\n",
       "      <td>0.238083</td>\n",
       "      <td>0.021268</td>\n",
       "    </tr>\n",
       "    <tr>\n",
       "      <th>std</th>\n",
       "      <td>0.248795</td>\n",
       "      <td>0.171169</td>\n",
       "      <td>1.232592</td>\n",
       "      <td>49.943099</td>\n",
       "      <td>1.460136</td>\n",
       "      <td>0.351719</td>\n",
       "      <td>0.425924</td>\n",
       "      <td>0.144281</td>\n",
       "    </tr>\n",
       "    <tr>\n",
       "      <th>min</th>\n",
       "      <td>0.090000</td>\n",
       "      <td>0.360000</td>\n",
       "      <td>2.000000</td>\n",
       "      <td>96.000000</td>\n",
       "      <td>2.000000</td>\n",
       "      <td>0.000000</td>\n",
       "      <td>0.000000</td>\n",
       "      <td>0.000000</td>\n",
       "    </tr>\n",
       "    <tr>\n",
       "      <th>25%</th>\n",
       "      <td>0.440000</td>\n",
       "      <td>0.560000</td>\n",
       "      <td>3.000000</td>\n",
       "      <td>156.000000</td>\n",
       "      <td>3.000000</td>\n",
       "      <td>0.000000</td>\n",
       "      <td>0.000000</td>\n",
       "      <td>0.000000</td>\n",
       "    </tr>\n",
       "    <tr>\n",
       "      <th>50%</th>\n",
       "      <td>0.640000</td>\n",
       "      <td>0.720000</td>\n",
       "      <td>4.000000</td>\n",
       "      <td>200.000000</td>\n",
       "      <td>3.000000</td>\n",
       "      <td>0.000000</td>\n",
       "      <td>0.000000</td>\n",
       "      <td>0.000000</td>\n",
       "    </tr>\n",
       "    <tr>\n",
       "      <th>75%</th>\n",
       "      <td>0.820000</td>\n",
       "      <td>0.870000</td>\n",
       "      <td>5.000000</td>\n",
       "      <td>245.000000</td>\n",
       "      <td>4.000000</td>\n",
       "      <td>0.000000</td>\n",
       "      <td>0.000000</td>\n",
       "      <td>0.000000</td>\n",
       "    </tr>\n",
       "    <tr>\n",
       "      <th>max</th>\n",
       "      <td>1.000000</td>\n",
       "      <td>1.000000</td>\n",
       "      <td>7.000000</td>\n",
       "      <td>310.000000</td>\n",
       "      <td>10.000000</td>\n",
       "      <td>1.000000</td>\n",
       "      <td>1.000000</td>\n",
       "      <td>1.000000</td>\n",
       "    </tr>\n",
       "  </tbody>\n",
       "</table>\n",
       "</div>"
      ],
      "text/plain": [
       "       nivel_satisfacao  ult_avaliacao  num_projetos  media_horas_mes  \\\n",
       "count      14978.000000   14999.000000  14999.000000     14999.000000   \n",
       "mean           0.612828       0.716102      3.803054       201.050337   \n",
       "std            0.248795       0.171169      1.232592        49.943099   \n",
       "min            0.090000       0.360000      2.000000        96.000000   \n",
       "25%            0.440000       0.560000      3.000000       156.000000   \n",
       "50%            0.640000       0.720000      4.000000       200.000000   \n",
       "75%            0.820000       0.870000      5.000000       245.000000   \n",
       "max            1.000000       1.000000      7.000000       310.000000   \n",
       "\n",
       "       tempo_empresa  aci_trabalho          saiu  promocao_ult_5anos  \n",
       "count   14999.000000  14999.000000  14999.000000        14999.000000  \n",
       "mean        3.498233      0.144610      0.238083            0.021268  \n",
       "std         1.460136      0.351719      0.425924            0.144281  \n",
       "min         2.000000      0.000000      0.000000            0.000000  \n",
       "25%         3.000000      0.000000      0.000000            0.000000  \n",
       "50%         3.000000      0.000000      0.000000            0.000000  \n",
       "75%         4.000000      0.000000      0.000000            0.000000  \n",
       "max        10.000000      1.000000      1.000000            1.000000  "
      ]
     },
     "execution_count": 254,
     "metadata": {},
     "output_type": "execute_result"
    }
   ],
   "source": [
    "df.describe()"
   ]
  },
  {
   "cell_type": "markdown",
   "id": "binary-burlington",
   "metadata": {},
   "source": [
    "### Verificação de valores ausentes"
   ]
  },
  {
   "cell_type": "code",
   "execution_count": 255,
   "id": "discrete-musician",
   "metadata": {},
   "outputs": [
    {
     "data": {
      "text/plain": [
       "nivel_satisfacao      21\n",
       "ult_avaliacao          0\n",
       "num_projetos           0\n",
       "media_horas_mes        0\n",
       "tempo_empresa          0\n",
       "aci_trabalho           0\n",
       "saiu                   0\n",
       "promocao_ult_5anos     0\n",
       "departamento           0\n",
       "salario                0\n",
       "dtype: int64"
      ]
     },
     "execution_count": 255,
     "metadata": {},
     "output_type": "execute_result"
    }
   ],
   "source": [
    "df.isnull().sum().sort_values(ascending=False)"
   ]
  },
  {
   "cell_type": "code",
   "execution_count": 256,
   "id": "minus-machinery",
   "metadata": {},
   "outputs": [],
   "source": [
    "# Exclusão de observações ausentes\n",
    "\n",
    "df.dropna(inplace=True)"
   ]
  },
  {
   "cell_type": "code",
   "execution_count": 257,
   "id": "efficient-patrick",
   "metadata": {},
   "outputs": [
    {
     "data": {
      "text/plain": [
       "nivel_satisfacao      0\n",
       "ult_avaliacao         0\n",
       "num_projetos          0\n",
       "media_horas_mes       0\n",
       "tempo_empresa         0\n",
       "aci_trabalho          0\n",
       "saiu                  0\n",
       "promocao_ult_5anos    0\n",
       "departamento          0\n",
       "salario               0\n",
       "dtype: int64"
      ]
     },
     "execution_count": 257,
     "metadata": {},
     "output_type": "execute_result"
    }
   ],
   "source": [
    "df.isnull().sum().sort_values(ascending=False)"
   ]
  },
  {
   "cell_type": "markdown",
   "id": "indirect-alignment",
   "metadata": {},
   "source": [
    "### Frequência de pessoas que saíram e permaneceram na empresa"
   ]
  },
  {
   "cell_type": "code",
   "execution_count": 258,
   "id": "existing-research",
   "metadata": {},
   "outputs": [],
   "source": [
    "frequencia = df.saiu.value_counts()"
   ]
  },
  {
   "cell_type": "code",
   "execution_count": 259,
   "id": "unauthorized-symbol",
   "metadata": {},
   "outputs": [
    {
     "data": {
      "text/plain": [
       "0    76.205101\n",
       "1    23.794899\n",
       "Name: saiu, dtype: float64"
      ]
     },
     "execution_count": 259,
     "metadata": {},
     "output_type": "execute_result"
    }
   ],
   "source": [
    "porcentagem = frequencia / len(df) * 100\n",
    "porcentagem"
   ]
  },
  {
   "cell_type": "code",
   "execution_count": 260,
   "id": "bibliographic-america",
   "metadata": {
    "scrolled": true
   },
   "outputs": [
    {
     "data": {
      "text/plain": [
       "([<matplotlib.axis.XTick at 0x22ba2b91730>,\n",
       "  <matplotlib.axis.XTick at 0x22ba2b91940>],\n",
       " [Text(0, 0, 'Não saiu'), Text(1, 0, 'Saiu')])"
      ]
     },
     "execution_count": 260,
     "metadata": {},
     "output_type": "execute_result"
    },
    {
     "data": {
      "image/png": "[encoded data removed]",
      "text/plain": [
       "<Figure size 432x288 with 1 Axes>"
      ]
     },
     "metadata": {
      "needs_background": "light"
     },
     "output_type": "display_data"
    }
   ],
   "source": [
    "frequencia.plot(kind='bar')\n",
    "plt.xticks((0,1), ['Não saiu', 'Saiu'])"
   ]
  },
  {
   "cell_type": "markdown",
   "id": "unsigned-buying",
   "metadata": {},
   "source": [
    "### Frequência de saída por departamento - tabela cruzada"
   ]
  },
  {
   "cell_type": "code",
   "execution_count": 261,
   "id": "fourth-manhattan",
   "metadata": {},
   "outputs": [
    {
     "name": "stdout",
     "output_type": "stream",
     "text": [
      "saiu             0     1\n",
      "departamento            \n",
      "IT             954   273\n",
      "RandD          666   121\n",
      "accounting     563   204\n",
      "management     539    91\n",
      "marketing      652   202\n",
      "product_mng    703   198\n",
      "rh             524   214\n",
      "sales         3117  1010\n",
      "support       1673   555\n",
      "technical     2023   696\n"
     ]
    }
   ],
   "source": [
    "valores = pd.crosstab(df['departamento'], df['saiu'])\n",
    "\n",
    "print(valores)"
   ]
  },
  {
   "cell_type": "code",
   "execution_count": 262,
   "id": "mighty-sponsorship",
   "metadata": {},
   "outputs": [
    {
     "name": "stdout",
     "output_type": "stream",
     "text": [
      "departamento\n",
      "IT             1227\n",
      "RandD           787\n",
      "accounting      767\n",
      "management      630\n",
      "marketing       854\n",
      "product_mng     901\n",
      "rh              738\n",
      "sales          4127\n",
      "support        2228\n",
      "technical      2719\n",
      "dtype: int64\n"
     ]
    }
   ],
   "source": [
    "soma = valores.sum(axis=1)\n",
    "print(soma)"
   ]
  },
  {
   "cell_type": "code",
   "execution_count": 263,
   "id": "senior-correction",
   "metadata": {},
   "outputs": [
    {
     "name": "stdout",
     "output_type": "stream",
     "text": [
      "saiu              0      1\n",
      "departamento              \n",
      "IT            77.75  22.25\n",
      "RandD         84.63  15.37\n",
      "accounting    73.40  26.60\n",
      "management    85.56  14.44\n",
      "marketing     76.35  23.65\n",
      "product_mng   78.02  21.98\n",
      "rh            71.00  29.00\n",
      "sales         75.53  24.47\n",
      "support       75.09  24.91\n",
      "technical     74.40  25.60\n"
     ]
    }
   ],
   "source": [
    "freq = valores.divide(soma, axis=0) * 100\n",
    "print(round(freq,2))"
   ]
  },
  {
   "cell_type": "code",
   "execution_count": 264,
   "id": "japanese-beijing",
   "metadata": {},
   "outputs": [],
   "source": [
    "porcentagem_dept =  freq "
   ]
  },
  {
   "cell_type": "code",
   "execution_count": 265,
   "id": "academic-integrity",
   "metadata": {},
   "outputs": [
    {
     "data": {
      "text/plain": [
       "<AxesSubplot:xlabel='departamento'>"
      ]
     },
     "execution_count": 265,
     "metadata": {},
     "output_type": "execute_result"
    },
    {
     "data": {
      "image/png": "[encoded data removed]",
      "text/plain": [
       "<Figure size 432x288 with 1 Axes>"
      ]
     },
     "metadata": {
      "needs_background": "light"
     },
     "output_type": "display_data"
    }
   ],
   "source": [
    "porcentagem_dept.plot(kind=\"bar\")"
   ]
  },
  {
   "cell_type": "markdown",
   "id": "timely-easter",
   "metadata": {},
   "source": [
    "### Criando variáveis dummies"
   ]
  },
  {
   "cell_type": "code",
   "execution_count": 266,
   "id": "cardiovascular-inquiry",
   "metadata": {},
   "outputs": [],
   "source": [
    "df = pd.get_dummies(df, drop_first=True )"
   ]
  },
  {
   "cell_type": "code",
   "execution_count": 267,
   "id": "metric-vaccine",
   "metadata": {},
   "outputs": [
    {
     "data": {
      "text/html": [
       "<div>\n",
       "<style scoped>\n",
       "    .dataframe tbody tr th:only-of-type {\n",
       "        vertical-align: middle;\n",
       "    }\n",
       "\n",
       "    .dataframe tbody tr th {\n",
       "        vertical-align: top;\n",
       "    }\n",
       "\n",
       "    .dataframe thead th {\n",
       "        text-align: right;\n",
       "    }\n",
       "</style>\n",
       "<table border=\"1\" class=\"dataframe\">\n",
       "  <thead>\n",
       "    <tr style=\"text-align: right;\">\n",
       "      <th></th>\n",
       "      <th>nivel_satisfacao</th>\n",
       "      <th>ult_avaliacao</th>\n",
       "      <th>num_projetos</th>\n",
       "      <th>media_horas_mes</th>\n",
       "      <th>tempo_empresa</th>\n",
       "      <th>aci_trabalho</th>\n",
       "      <th>saiu</th>\n",
       "      <th>promocao_ult_5anos</th>\n",
       "      <th>departamento_RandD</th>\n",
       "      <th>departamento_accounting</th>\n",
       "      <th>departamento_management</th>\n",
       "      <th>departamento_marketing</th>\n",
       "      <th>departamento_product_mng</th>\n",
       "      <th>departamento_rh</th>\n",
       "      <th>departamento_sales</th>\n",
       "      <th>departamento_support</th>\n",
       "      <th>departamento_technical</th>\n",
       "      <th>salario_low</th>\n",
       "      <th>salario_medium</th>\n",
       "    </tr>\n",
       "  </thead>\n",
       "  <tbody>\n",
       "    <tr>\n",
       "      <th>0</th>\n",
       "      <td>0.38</td>\n",
       "      <td>0.53</td>\n",
       "      <td>2</td>\n",
       "      <td>157</td>\n",
       "      <td>3</td>\n",
       "      <td>0</td>\n",
       "      <td>1</td>\n",
       "      <td>0</td>\n",
       "      <td>0</td>\n",
       "      <td>0</td>\n",
       "      <td>0</td>\n",
       "      <td>0</td>\n",
       "      <td>0</td>\n",
       "      <td>0</td>\n",
       "      <td>1</td>\n",
       "      <td>0</td>\n",
       "      <td>0</td>\n",
       "      <td>1</td>\n",
       "      <td>0</td>\n",
       "    </tr>\n",
       "    <tr>\n",
       "      <th>1</th>\n",
       "      <td>0.80</td>\n",
       "      <td>0.86</td>\n",
       "      <td>5</td>\n",
       "      <td>262</td>\n",
       "      <td>6</td>\n",
       "      <td>0</td>\n",
       "      <td>1</td>\n",
       "      <td>0</td>\n",
       "      <td>0</td>\n",
       "      <td>0</td>\n",
       "      <td>0</td>\n",
       "      <td>0</td>\n",
       "      <td>0</td>\n",
       "      <td>0</td>\n",
       "      <td>1</td>\n",
       "      <td>0</td>\n",
       "      <td>0</td>\n",
       "      <td>0</td>\n",
       "      <td>1</td>\n",
       "    </tr>\n",
       "    <tr>\n",
       "      <th>2</th>\n",
       "      <td>0.11</td>\n",
       "      <td>0.88</td>\n",
       "      <td>7</td>\n",
       "      <td>272</td>\n",
       "      <td>4</td>\n",
       "      <td>0</td>\n",
       "      <td>1</td>\n",
       "      <td>0</td>\n",
       "      <td>0</td>\n",
       "      <td>0</td>\n",
       "      <td>0</td>\n",
       "      <td>0</td>\n",
       "      <td>0</td>\n",
       "      <td>0</td>\n",
       "      <td>1</td>\n",
       "      <td>0</td>\n",
       "      <td>0</td>\n",
       "      <td>0</td>\n",
       "      <td>1</td>\n",
       "    </tr>\n",
       "    <tr>\n",
       "      <th>3</th>\n",
       "      <td>0.72</td>\n",
       "      <td>0.87</td>\n",
       "      <td>5</td>\n",
       "      <td>223</td>\n",
       "      <td>5</td>\n",
       "      <td>0</td>\n",
       "      <td>1</td>\n",
       "      <td>0</td>\n",
       "      <td>0</td>\n",
       "      <td>0</td>\n",
       "      <td>0</td>\n",
       "      <td>0</td>\n",
       "      <td>0</td>\n",
       "      <td>0</td>\n",
       "      <td>1</td>\n",
       "      <td>0</td>\n",
       "      <td>0</td>\n",
       "      <td>1</td>\n",
       "      <td>0</td>\n",
       "    </tr>\n",
       "    <tr>\n",
       "      <th>4</th>\n",
       "      <td>0.37</td>\n",
       "      <td>0.52</td>\n",
       "      <td>2</td>\n",
       "      <td>159</td>\n",
       "      <td>3</td>\n",
       "      <td>0</td>\n",
       "      <td>1</td>\n",
       "      <td>0</td>\n",
       "      <td>0</td>\n",
       "      <td>0</td>\n",
       "      <td>0</td>\n",
       "      <td>0</td>\n",
       "      <td>0</td>\n",
       "      <td>0</td>\n",
       "      <td>1</td>\n",
       "      <td>0</td>\n",
       "      <td>0</td>\n",
       "      <td>1</td>\n",
       "      <td>0</td>\n",
       "    </tr>\n",
       "    <tr>\n",
       "      <th>...</th>\n",
       "      <td>...</td>\n",
       "      <td>...</td>\n",
       "      <td>...</td>\n",
       "      <td>...</td>\n",
       "      <td>...</td>\n",
       "      <td>...</td>\n",
       "      <td>...</td>\n",
       "      <td>...</td>\n",
       "      <td>...</td>\n",
       "      <td>...</td>\n",
       "      <td>...</td>\n",
       "      <td>...</td>\n",
       "      <td>...</td>\n",
       "      <td>...</td>\n",
       "      <td>...</td>\n",
       "      <td>...</td>\n",
       "      <td>...</td>\n",
       "      <td>...</td>\n",
       "      <td>...</td>\n",
       "    </tr>\n",
       "    <tr>\n",
       "      <th>2001</th>\n",
       "      <td>0.82</td>\n",
       "      <td>0.67</td>\n",
       "      <td>2</td>\n",
       "      <td>202</td>\n",
       "      <td>3</td>\n",
       "      <td>0</td>\n",
       "      <td>0</td>\n",
       "      <td>0</td>\n",
       "      <td>0</td>\n",
       "      <td>0</td>\n",
       "      <td>0</td>\n",
       "      <td>0</td>\n",
       "      <td>0</td>\n",
       "      <td>0</td>\n",
       "      <td>1</td>\n",
       "      <td>0</td>\n",
       "      <td>0</td>\n",
       "      <td>1</td>\n",
       "      <td>0</td>\n",
       "    </tr>\n",
       "    <tr>\n",
       "      <th>2002</th>\n",
       "      <td>0.45</td>\n",
       "      <td>0.69</td>\n",
       "      <td>5</td>\n",
       "      <td>193</td>\n",
       "      <td>3</td>\n",
       "      <td>0</td>\n",
       "      <td>0</td>\n",
       "      <td>0</td>\n",
       "      <td>0</td>\n",
       "      <td>0</td>\n",
       "      <td>0</td>\n",
       "      <td>0</td>\n",
       "      <td>0</td>\n",
       "      <td>0</td>\n",
       "      <td>1</td>\n",
       "      <td>0</td>\n",
       "      <td>0</td>\n",
       "      <td>1</td>\n",
       "      <td>0</td>\n",
       "    </tr>\n",
       "    <tr>\n",
       "      <th>2003</th>\n",
       "      <td>0.78</td>\n",
       "      <td>0.82</td>\n",
       "      <td>5</td>\n",
       "      <td>247</td>\n",
       "      <td>3</td>\n",
       "      <td>0</td>\n",
       "      <td>0</td>\n",
       "      <td>0</td>\n",
       "      <td>0</td>\n",
       "      <td>0</td>\n",
       "      <td>0</td>\n",
       "      <td>0</td>\n",
       "      <td>0</td>\n",
       "      <td>0</td>\n",
       "      <td>1</td>\n",
       "      <td>0</td>\n",
       "      <td>0</td>\n",
       "      <td>1</td>\n",
       "      <td>0</td>\n",
       "    </tr>\n",
       "    <tr>\n",
       "      <th>2004</th>\n",
       "      <td>0.49</td>\n",
       "      <td>0.60</td>\n",
       "      <td>3</td>\n",
       "      <td>214</td>\n",
       "      <td>2</td>\n",
       "      <td>0</td>\n",
       "      <td>0</td>\n",
       "      <td>0</td>\n",
       "      <td>0</td>\n",
       "      <td>0</td>\n",
       "      <td>0</td>\n",
       "      <td>0</td>\n",
       "      <td>0</td>\n",
       "      <td>0</td>\n",
       "      <td>1</td>\n",
       "      <td>0</td>\n",
       "      <td>0</td>\n",
       "      <td>1</td>\n",
       "      <td>0</td>\n",
       "    </tr>\n",
       "    <tr>\n",
       "      <th>2005</th>\n",
       "      <td>0.36</td>\n",
       "      <td>0.95</td>\n",
       "      <td>3</td>\n",
       "      <td>206</td>\n",
       "      <td>4</td>\n",
       "      <td>0</td>\n",
       "      <td>0</td>\n",
       "      <td>0</td>\n",
       "      <td>0</td>\n",
       "      <td>0</td>\n",
       "      <td>0</td>\n",
       "      <td>0</td>\n",
       "      <td>0</td>\n",
       "      <td>0</td>\n",
       "      <td>1</td>\n",
       "      <td>0</td>\n",
       "      <td>0</td>\n",
       "      <td>1</td>\n",
       "      <td>0</td>\n",
       "    </tr>\n",
       "  </tbody>\n",
       "</table>\n",
       "<p>2000 rows × 19 columns</p>\n",
       "</div>"
      ],
      "text/plain": [
       "      nivel_satisfacao  ult_avaliacao  num_projetos  media_horas_mes  \\\n",
       "0                 0.38           0.53             2              157   \n",
       "1                 0.80           0.86             5              262   \n",
       "2                 0.11           0.88             7              272   \n",
       "3                 0.72           0.87             5              223   \n",
       "4                 0.37           0.52             2              159   \n",
       "...                ...            ...           ...              ...   \n",
       "2001              0.82           0.67             2              202   \n",
       "2002              0.45           0.69             5              193   \n",
       "2003              0.78           0.82             5              247   \n",
       "2004              0.49           0.60             3              214   \n",
       "2005              0.36           0.95             3              206   \n",
       "\n",
       "      tempo_empresa  aci_trabalho  saiu  promocao_ult_5anos  \\\n",
       "0                 3             0     1                   0   \n",
       "1                 6             0     1                   0   \n",
       "2                 4             0     1                   0   \n",
       "3                 5             0     1                   0   \n",
       "4                 3             0     1                   0   \n",
       "...             ...           ...   ...                 ...   \n",
       "2001              3             0     0                   0   \n",
       "2002              3             0     0                   0   \n",
       "2003              3             0     0                   0   \n",
       "2004              2             0     0                   0   \n",
       "2005              4             0     0                   0   \n",
       "\n",
       "      departamento_RandD  departamento_accounting  departamento_management  \\\n",
       "0                      0                        0                        0   \n",
       "1                      0                        0                        0   \n",
       "2                      0                        0                        0   \n",
       "3                      0                        0                        0   \n",
       "4                      0                        0                        0   \n",
       "...                  ...                      ...                      ...   \n",
       "2001                   0                        0                        0   \n",
       "2002                   0                        0                        0   \n",
       "2003                   0                        0                        0   \n",
       "2004                   0                        0                        0   \n",
       "2005                   0                        0                        0   \n",
       "\n",
       "      departamento_marketing  departamento_product_mng  departamento_rh  \\\n",
       "0                          0                         0                0   \n",
       "1                          0                         0                0   \n",
       "2                          0                         0                0   \n",
       "3                          0                         0                0   \n",
       "4                          0                         0                0   \n",
       "...                      ...                       ...              ...   \n",
       "2001                       0                         0                0   \n",
       "2002                       0                         0                0   \n",
       "2003                       0                         0                0   \n",
       "2004                       0                         0                0   \n",
       "2005                       0                         0                0   \n",
       "\n",
       "      departamento_sales  departamento_support  departamento_technical  \\\n",
       "0                      1                     0                       0   \n",
       "1                      1                     0                       0   \n",
       "2                      1                     0                       0   \n",
       "3                      1                     0                       0   \n",
       "4                      1                     0                       0   \n",
       "...                  ...                   ...                     ...   \n",
       "2001                   1                     0                       0   \n",
       "2002                   1                     0                       0   \n",
       "2003                   1                     0                       0   \n",
       "2004                   1                     0                       0   \n",
       "2005                   1                     0                       0   \n",
       "\n",
       "      salario_low  salario_medium  \n",
       "0               1               0  \n",
       "1               0               1  \n",
       "2               0               1  \n",
       "3               1               0  \n",
       "4               1               0  \n",
       "...           ...             ...  \n",
       "2001            1               0  \n",
       "2002            1               0  \n",
       "2003            1               0  \n",
       "2004            1               0  \n",
       "2005            1               0  \n",
       "\n",
       "[2000 rows x 19 columns]"
      ]
     },
     "execution_count": 267,
     "metadata": {},
     "output_type": "execute_result"
    }
   ],
   "source": [
    "df.head(2000)"
   ]
  },
  {
   "cell_type": "markdown",
   "id": "fatty-remainder",
   "metadata": {},
   "source": [
    "### Normalizando os dados"
   ]
  },
  {
   "cell_type": "code",
   "execution_count": 268,
   "id": "downtown-rings",
   "metadata": {},
   "outputs": [
    {
     "data": {
      "text/html": [
       "<div>\n",
       "<style scoped>\n",
       "    .dataframe tbody tr th:only-of-type {\n",
       "        vertical-align: middle;\n",
       "    }\n",
       "\n",
       "    .dataframe tbody tr th {\n",
       "        vertical-align: top;\n",
       "    }\n",
       "\n",
       "    .dataframe thead th {\n",
       "        text-align: right;\n",
       "    }\n",
       "</style>\n",
       "<table border=\"1\" class=\"dataframe\">\n",
       "  <thead>\n",
       "    <tr style=\"text-align: right;\">\n",
       "      <th></th>\n",
       "      <th>nivel_satisfacao</th>\n",
       "      <th>ult_avaliacao</th>\n",
       "      <th>num_projetos</th>\n",
       "      <th>media_horas_mes</th>\n",
       "      <th>tempo_empresa</th>\n",
       "      <th>aci_trabalho</th>\n",
       "      <th>saiu</th>\n",
       "      <th>promocao_ult_5anos</th>\n",
       "      <th>departamento_RandD</th>\n",
       "      <th>departamento_accounting</th>\n",
       "      <th>departamento_management</th>\n",
       "      <th>departamento_marketing</th>\n",
       "      <th>departamento_product_mng</th>\n",
       "      <th>departamento_rh</th>\n",
       "      <th>departamento_sales</th>\n",
       "      <th>departamento_support</th>\n",
       "      <th>departamento_technical</th>\n",
       "      <th>salario_low</th>\n",
       "      <th>salario_medium</th>\n",
       "    </tr>\n",
       "  </thead>\n",
       "  <tbody>\n",
       "    <tr>\n",
       "      <th>max</th>\n",
       "      <td>1.00</td>\n",
       "      <td>1.00</td>\n",
       "      <td>7.0</td>\n",
       "      <td>310.0</td>\n",
       "      <td>10.0</td>\n",
       "      <td>1.0</td>\n",
       "      <td>1.0</td>\n",
       "      <td>1.0</td>\n",
       "      <td>1.0</td>\n",
       "      <td>1.0</td>\n",
       "      <td>1.0</td>\n",
       "      <td>1.0</td>\n",
       "      <td>1.0</td>\n",
       "      <td>1.0</td>\n",
       "      <td>1.0</td>\n",
       "      <td>1.0</td>\n",
       "      <td>1.0</td>\n",
       "      <td>1.0</td>\n",
       "      <td>1.0</td>\n",
       "    </tr>\n",
       "    <tr>\n",
       "      <th>min</th>\n",
       "      <td>0.09</td>\n",
       "      <td>0.36</td>\n",
       "      <td>2.0</td>\n",
       "      <td>96.0</td>\n",
       "      <td>2.0</td>\n",
       "      <td>0.0</td>\n",
       "      <td>0.0</td>\n",
       "      <td>0.0</td>\n",
       "      <td>0.0</td>\n",
       "      <td>0.0</td>\n",
       "      <td>0.0</td>\n",
       "      <td>0.0</td>\n",
       "      <td>0.0</td>\n",
       "      <td>0.0</td>\n",
       "      <td>0.0</td>\n",
       "      <td>0.0</td>\n",
       "      <td>0.0</td>\n",
       "      <td>0.0</td>\n",
       "      <td>0.0</td>\n",
       "    </tr>\n",
       "  </tbody>\n",
       "</table>\n",
       "</div>"
      ],
      "text/plain": [
       "     nivel_satisfacao  ult_avaliacao  num_projetos  media_horas_mes  \\\n",
       "max              1.00           1.00           7.0            310.0   \n",
       "min              0.09           0.36           2.0             96.0   \n",
       "\n",
       "     tempo_empresa  aci_trabalho  saiu  promocao_ult_5anos  \\\n",
       "max           10.0           1.0   1.0                 1.0   \n",
       "min            2.0           0.0   0.0                 0.0   \n",
       "\n",
       "     departamento_RandD  departamento_accounting  departamento_management  \\\n",
       "max                 1.0                      1.0                      1.0   \n",
       "min                 0.0                      0.0                      0.0   \n",
       "\n",
       "     departamento_marketing  departamento_product_mng  departamento_rh  \\\n",
       "max                     1.0                       1.0              1.0   \n",
       "min                     0.0                       0.0              0.0   \n",
       "\n",
       "     departamento_sales  departamento_support  departamento_technical  \\\n",
       "max                 1.0                   1.0                     1.0   \n",
       "min                 0.0                   0.0                     0.0   \n",
       "\n",
       "     salario_low  salario_medium  \n",
       "max          1.0             1.0  \n",
       "min          0.0             0.0  "
      ]
     },
     "execution_count": 268,
     "metadata": {},
     "output_type": "execute_result"
    }
   ],
   "source": [
    "pd.DataFrame([df.max(), df.min()], index= [\"max\", \"min\"])"
   ]
  },
  {
   "cell_type": "code",
   "execution_count": 269,
   "id": "lesbian-amplifier",
   "metadata": {},
   "outputs": [
    {
     "data": {
      "text/html": [
       "<div>\n",
       "<style scoped>\n",
       "    .dataframe tbody tr th:only-of-type {\n",
       "        vertical-align: middle;\n",
       "    }\n",
       "\n",
       "    .dataframe tbody tr th {\n",
       "        vertical-align: top;\n",
       "    }\n",
       "\n",
       "    .dataframe thead th {\n",
       "        text-align: right;\n",
       "    }\n",
       "</style>\n",
       "<table border=\"1\" class=\"dataframe\">\n",
       "  <thead>\n",
       "    <tr style=\"text-align: right;\">\n",
       "      <th></th>\n",
       "      <th>max</th>\n",
       "      <th>min</th>\n",
       "    </tr>\n",
       "  </thead>\n",
       "  <tbody>\n",
       "    <tr>\n",
       "      <th>nivel_satisfacao</th>\n",
       "      <td>1.0</td>\n",
       "      <td>0.09</td>\n",
       "    </tr>\n",
       "    <tr>\n",
       "      <th>ult_avaliacao</th>\n",
       "      <td>1.0</td>\n",
       "      <td>0.36</td>\n",
       "    </tr>\n",
       "    <tr>\n",
       "      <th>num_projetos</th>\n",
       "      <td>7.0</td>\n",
       "      <td>2.00</td>\n",
       "    </tr>\n",
       "    <tr>\n",
       "      <th>media_horas_mes</th>\n",
       "      <td>310.0</td>\n",
       "      <td>96.00</td>\n",
       "    </tr>\n",
       "    <tr>\n",
       "      <th>tempo_empresa</th>\n",
       "      <td>10.0</td>\n",
       "      <td>2.00</td>\n",
       "    </tr>\n",
       "    <tr>\n",
       "      <th>aci_trabalho</th>\n",
       "      <td>1.0</td>\n",
       "      <td>0.00</td>\n",
       "    </tr>\n",
       "    <tr>\n",
       "      <th>saiu</th>\n",
       "      <td>1.0</td>\n",
       "      <td>0.00</td>\n",
       "    </tr>\n",
       "    <tr>\n",
       "      <th>promocao_ult_5anos</th>\n",
       "      <td>1.0</td>\n",
       "      <td>0.00</td>\n",
       "    </tr>\n",
       "    <tr>\n",
       "      <th>departamento_RandD</th>\n",
       "      <td>1.0</td>\n",
       "      <td>0.00</td>\n",
       "    </tr>\n",
       "    <tr>\n",
       "      <th>departamento_accounting</th>\n",
       "      <td>1.0</td>\n",
       "      <td>0.00</td>\n",
       "    </tr>\n",
       "    <tr>\n",
       "      <th>departamento_management</th>\n",
       "      <td>1.0</td>\n",
       "      <td>0.00</td>\n",
       "    </tr>\n",
       "    <tr>\n",
       "      <th>departamento_marketing</th>\n",
       "      <td>1.0</td>\n",
       "      <td>0.00</td>\n",
       "    </tr>\n",
       "    <tr>\n",
       "      <th>departamento_product_mng</th>\n",
       "      <td>1.0</td>\n",
       "      <td>0.00</td>\n",
       "    </tr>\n",
       "    <tr>\n",
       "      <th>departamento_rh</th>\n",
       "      <td>1.0</td>\n",
       "      <td>0.00</td>\n",
       "    </tr>\n",
       "    <tr>\n",
       "      <th>departamento_sales</th>\n",
       "      <td>1.0</td>\n",
       "      <td>0.00</td>\n",
       "    </tr>\n",
       "    <tr>\n",
       "      <th>departamento_support</th>\n",
       "      <td>1.0</td>\n",
       "      <td>0.00</td>\n",
       "    </tr>\n",
       "    <tr>\n",
       "      <th>departamento_technical</th>\n",
       "      <td>1.0</td>\n",
       "      <td>0.00</td>\n",
       "    </tr>\n",
       "    <tr>\n",
       "      <th>salario_low</th>\n",
       "      <td>1.0</td>\n",
       "      <td>0.00</td>\n",
       "    </tr>\n",
       "    <tr>\n",
       "      <th>salario_medium</th>\n",
       "      <td>1.0</td>\n",
       "      <td>0.00</td>\n",
       "    </tr>\n",
       "  </tbody>\n",
       "</table>\n",
       "</div>"
      ],
      "text/plain": [
       "                            max    min\n",
       "nivel_satisfacao            1.0   0.09\n",
       "ult_avaliacao               1.0   0.36\n",
       "num_projetos                7.0   2.00\n",
       "media_horas_mes           310.0  96.00\n",
       "tempo_empresa              10.0   2.00\n",
       "aci_trabalho                1.0   0.00\n",
       "saiu                        1.0   0.00\n",
       "promocao_ult_5anos          1.0   0.00\n",
       "departamento_RandD          1.0   0.00\n",
       "departamento_accounting     1.0   0.00\n",
       "departamento_management     1.0   0.00\n",
       "departamento_marketing      1.0   0.00\n",
       "departamento_product_mng    1.0   0.00\n",
       "departamento_rh             1.0   0.00\n",
       "departamento_sales          1.0   0.00\n",
       "departamento_support        1.0   0.00\n",
       "departamento_technical      1.0   0.00\n",
       "salario_low                 1.0   0.00\n",
       "salario_medium              1.0   0.00"
      ]
     },
     "execution_count": 269,
     "metadata": {},
     "output_type": "execute_result"
    }
   ],
   "source": [
    "pd.DataFrame([df.max(), df.min()], index= [\"max\", \"min\"]).T"
   ]
  },
  {
   "cell_type": "code",
   "execution_count": 270,
   "id": "governmental-alias",
   "metadata": {},
   "outputs": [],
   "source": [
    "from sklearn import preprocessing"
   ]
  },
  {
   "cell_type": "code",
   "execution_count": 271,
   "id": "dated-smart",
   "metadata": {},
   "outputs": [
    {
     "data": {
      "text/plain": [
       "array([[0.38, 0.53, 2.  , ..., 0.  , 1.  , 0.  ],\n",
       "       [0.8 , 0.86, 5.  , ..., 0.  , 0.  , 1.  ],\n",
       "       [0.11, 0.88, 7.  , ..., 0.  , 0.  , 1.  ],\n",
       "       ...,\n",
       "       [0.37, 0.53, 2.  , ..., 0.  , 1.  , 0.  ],\n",
       "       [0.11, 0.96, 6.  , ..., 0.  , 1.  , 0.  ],\n",
       "       [0.37, 0.52, 2.  , ..., 0.  , 1.  , 0.  ]])"
      ]
     },
     "execution_count": 271,
     "metadata": {},
     "output_type": "execute_result"
    }
   ],
   "source": [
    "x = df.values\n",
    "x"
   ]
  },
  {
   "cell_type": "code",
   "execution_count": 272,
   "id": "worthy-comparative",
   "metadata": {},
   "outputs": [],
   "source": [
    "min_max_scaler = preprocessing.MinMaxScaler()"
   ]
  },
  {
   "cell_type": "code",
   "execution_count": 273,
   "id": "early-significance",
   "metadata": {},
   "outputs": [],
   "source": [
    "df_new = min_max_scaler.fit_transform(x)"
   ]
  },
  {
   "cell_type": "code",
   "execution_count": 274,
   "id": "synthetic-layout",
   "metadata": {},
   "outputs": [
    {
     "data": {
      "text/plain": [
       "array([[0.31868132, 0.265625  , 0.        , ..., 0.        , 1.        ,\n",
       "        0.        ],\n",
       "       [0.78021978, 0.78125   , 0.6       , ..., 0.        , 0.        ,\n",
       "        1.        ],\n",
       "       [0.02197802, 0.8125    , 1.        , ..., 0.        , 0.        ,\n",
       "        1.        ],\n",
       "       ...,\n",
       "       [0.30769231, 0.265625  , 0.        , ..., 0.        , 1.        ,\n",
       "        0.        ],\n",
       "       [0.02197802, 0.9375    , 0.8       , ..., 0.        , 1.        ,\n",
       "        0.        ],\n",
       "       [0.30769231, 0.25      , 0.        , ..., 0.        , 1.        ,\n",
       "        0.        ]])"
      ]
     },
     "execution_count": 274,
     "metadata": {},
     "output_type": "execute_result"
    }
   ],
   "source": [
    "df_new"
   ]
  },
  {
   "cell_type": "code",
   "execution_count": 275,
   "id": "important-tyler",
   "metadata": {},
   "outputs": [],
   "source": [
    "# Dataset normalizado\n",
    "\n",
    "df = pd.DataFrame(data= df_new, columns=df.columns)"
   ]
  },
  {
   "cell_type": "code",
   "execution_count": 276,
   "id": "german-moderator",
   "metadata": {},
   "outputs": [
    {
     "data": {
      "text/html": [
       "<div>\n",
       "<style scoped>\n",
       "    .dataframe tbody tr th:only-of-type {\n",
       "        vertical-align: middle;\n",
       "    }\n",
       "\n",
       "    .dataframe tbody tr th {\n",
       "        vertical-align: top;\n",
       "    }\n",
       "\n",
       "    .dataframe thead th {\n",
       "        text-align: right;\n",
       "    }\n",
       "</style>\n",
       "<table border=\"1\" class=\"dataframe\">\n",
       "  <thead>\n",
       "    <tr style=\"text-align: right;\">\n",
       "      <th></th>\n",
       "      <th>nivel_satisfacao</th>\n",
       "      <th>ult_avaliacao</th>\n",
       "      <th>num_projetos</th>\n",
       "      <th>media_horas_mes</th>\n",
       "      <th>tempo_empresa</th>\n",
       "      <th>aci_trabalho</th>\n",
       "      <th>saiu</th>\n",
       "      <th>promocao_ult_5anos</th>\n",
       "      <th>departamento_RandD</th>\n",
       "      <th>departamento_accounting</th>\n",
       "      <th>departamento_management</th>\n",
       "      <th>departamento_marketing</th>\n",
       "      <th>departamento_product_mng</th>\n",
       "      <th>departamento_rh</th>\n",
       "      <th>departamento_sales</th>\n",
       "      <th>departamento_support</th>\n",
       "      <th>departamento_technical</th>\n",
       "      <th>salario_low</th>\n",
       "      <th>salario_medium</th>\n",
       "    </tr>\n",
       "  </thead>\n",
       "  <tbody>\n",
       "    <tr>\n",
       "      <th>0</th>\n",
       "      <td>0.318681</td>\n",
       "      <td>0.265625</td>\n",
       "      <td>0.0</td>\n",
       "      <td>0.285047</td>\n",
       "      <td>0.125</td>\n",
       "      <td>0.0</td>\n",
       "      <td>1.0</td>\n",
       "      <td>0.0</td>\n",
       "      <td>0.0</td>\n",
       "      <td>0.0</td>\n",
       "      <td>0.0</td>\n",
       "      <td>0.0</td>\n",
       "      <td>0.0</td>\n",
       "      <td>0.0</td>\n",
       "      <td>1.0</td>\n",
       "      <td>0.0</td>\n",
       "      <td>0.0</td>\n",
       "      <td>1.0</td>\n",
       "      <td>0.0</td>\n",
       "    </tr>\n",
       "    <tr>\n",
       "      <th>1</th>\n",
       "      <td>0.780220</td>\n",
       "      <td>0.781250</td>\n",
       "      <td>0.6</td>\n",
       "      <td>0.775701</td>\n",
       "      <td>0.500</td>\n",
       "      <td>0.0</td>\n",
       "      <td>1.0</td>\n",
       "      <td>0.0</td>\n",
       "      <td>0.0</td>\n",
       "      <td>0.0</td>\n",
       "      <td>0.0</td>\n",
       "      <td>0.0</td>\n",
       "      <td>0.0</td>\n",
       "      <td>0.0</td>\n",
       "      <td>1.0</td>\n",
       "      <td>0.0</td>\n",
       "      <td>0.0</td>\n",
       "      <td>0.0</td>\n",
       "      <td>1.0</td>\n",
       "    </tr>\n",
       "    <tr>\n",
       "      <th>2</th>\n",
       "      <td>0.021978</td>\n",
       "      <td>0.812500</td>\n",
       "      <td>1.0</td>\n",
       "      <td>0.822430</td>\n",
       "      <td>0.250</td>\n",
       "      <td>0.0</td>\n",
       "      <td>1.0</td>\n",
       "      <td>0.0</td>\n",
       "      <td>0.0</td>\n",
       "      <td>0.0</td>\n",
       "      <td>0.0</td>\n",
       "      <td>0.0</td>\n",
       "      <td>0.0</td>\n",
       "      <td>0.0</td>\n",
       "      <td>1.0</td>\n",
       "      <td>0.0</td>\n",
       "      <td>0.0</td>\n",
       "      <td>0.0</td>\n",
       "      <td>1.0</td>\n",
       "    </tr>\n",
       "    <tr>\n",
       "      <th>3</th>\n",
       "      <td>0.692308</td>\n",
       "      <td>0.796875</td>\n",
       "      <td>0.6</td>\n",
       "      <td>0.593458</td>\n",
       "      <td>0.375</td>\n",
       "      <td>0.0</td>\n",
       "      <td>1.0</td>\n",
       "      <td>0.0</td>\n",
       "      <td>0.0</td>\n",
       "      <td>0.0</td>\n",
       "      <td>0.0</td>\n",
       "      <td>0.0</td>\n",
       "      <td>0.0</td>\n",
       "      <td>0.0</td>\n",
       "      <td>1.0</td>\n",
       "      <td>0.0</td>\n",
       "      <td>0.0</td>\n",
       "      <td>1.0</td>\n",
       "      <td>0.0</td>\n",
       "    </tr>\n",
       "    <tr>\n",
       "      <th>4</th>\n",
       "      <td>0.307692</td>\n",
       "      <td>0.250000</td>\n",
       "      <td>0.0</td>\n",
       "      <td>0.294393</td>\n",
       "      <td>0.125</td>\n",
       "      <td>0.0</td>\n",
       "      <td>1.0</td>\n",
       "      <td>0.0</td>\n",
       "      <td>0.0</td>\n",
       "      <td>0.0</td>\n",
       "      <td>0.0</td>\n",
       "      <td>0.0</td>\n",
       "      <td>0.0</td>\n",
       "      <td>0.0</td>\n",
       "      <td>1.0</td>\n",
       "      <td>0.0</td>\n",
       "      <td>0.0</td>\n",
       "      <td>1.0</td>\n",
       "      <td>0.0</td>\n",
       "    </tr>\n",
       "  </tbody>\n",
       "</table>\n",
       "</div>"
      ],
      "text/plain": [
       "   nivel_satisfacao  ult_avaliacao  num_projetos  media_horas_mes  \\\n",
       "0          0.318681       0.265625           0.0         0.285047   \n",
       "1          0.780220       0.781250           0.6         0.775701   \n",
       "2          0.021978       0.812500           1.0         0.822430   \n",
       "3          0.692308       0.796875           0.6         0.593458   \n",
       "4          0.307692       0.250000           0.0         0.294393   \n",
       "\n",
       "   tempo_empresa  aci_trabalho  saiu  promocao_ult_5anos  departamento_RandD  \\\n",
       "0          0.125           0.0   1.0                 0.0                 0.0   \n",
       "1          0.500           0.0   1.0                 0.0                 0.0   \n",
       "2          0.250           0.0   1.0                 0.0                 0.0   \n",
       "3          0.375           0.0   1.0                 0.0                 0.0   \n",
       "4          0.125           0.0   1.0                 0.0                 0.0   \n",
       "\n",
       "   departamento_accounting  departamento_management  departamento_marketing  \\\n",
       "0                      0.0                      0.0                     0.0   \n",
       "1                      0.0                      0.0                     0.0   \n",
       "2                      0.0                      0.0                     0.0   \n",
       "3                      0.0                      0.0                     0.0   \n",
       "4                      0.0                      0.0                     0.0   \n",
       "\n",
       "   departamento_product_mng  departamento_rh  departamento_sales  \\\n",
       "0                       0.0              0.0                 1.0   \n",
       "1                       0.0              0.0                 1.0   \n",
       "2                       0.0              0.0                 1.0   \n",
       "3                       0.0              0.0                 1.0   \n",
       "4                       0.0              0.0                 1.0   \n",
       "\n",
       "   departamento_support  departamento_technical  salario_low  salario_medium  \n",
       "0                   0.0                     0.0          1.0             0.0  \n",
       "1                   0.0                     0.0          0.0             1.0  \n",
       "2                   0.0                     0.0          0.0             1.0  \n",
       "3                   0.0                     0.0          1.0             0.0  \n",
       "4                   0.0                     0.0          1.0             0.0  "
      ]
     },
     "execution_count": 276,
     "metadata": {},
     "output_type": "execute_result"
    }
   ],
   "source": [
    "df.head()"
   ]
  },
  {
   "cell_type": "code",
   "execution_count": 277,
   "id": "detected-vegetable",
   "metadata": {},
   "outputs": [
    {
     "data": {
      "text/html": [
       "<div>\n",
       "<style scoped>\n",
       "    .dataframe tbody tr th:only-of-type {\n",
       "        vertical-align: middle;\n",
       "    }\n",
       "\n",
       "    .dataframe tbody tr th {\n",
       "        vertical-align: top;\n",
       "    }\n",
       "\n",
       "    .dataframe thead th {\n",
       "        text-align: right;\n",
       "    }\n",
       "</style>\n",
       "<table border=\"1\" class=\"dataframe\">\n",
       "  <thead>\n",
       "    <tr style=\"text-align: right;\">\n",
       "      <th></th>\n",
       "      <th>max</th>\n",
       "      <th>min</th>\n",
       "    </tr>\n",
       "  </thead>\n",
       "  <tbody>\n",
       "    <tr>\n",
       "      <th>nivel_satisfacao</th>\n",
       "      <td>1.0</td>\n",
       "      <td>0.0</td>\n",
       "    </tr>\n",
       "    <tr>\n",
       "      <th>ult_avaliacao</th>\n",
       "      <td>1.0</td>\n",
       "      <td>0.0</td>\n",
       "    </tr>\n",
       "    <tr>\n",
       "      <th>num_projetos</th>\n",
       "      <td>1.0</td>\n",
       "      <td>0.0</td>\n",
       "    </tr>\n",
       "    <tr>\n",
       "      <th>media_horas_mes</th>\n",
       "      <td>1.0</td>\n",
       "      <td>0.0</td>\n",
       "    </tr>\n",
       "    <tr>\n",
       "      <th>tempo_empresa</th>\n",
       "      <td>1.0</td>\n",
       "      <td>0.0</td>\n",
       "    </tr>\n",
       "    <tr>\n",
       "      <th>aci_trabalho</th>\n",
       "      <td>1.0</td>\n",
       "      <td>0.0</td>\n",
       "    </tr>\n",
       "    <tr>\n",
       "      <th>saiu</th>\n",
       "      <td>1.0</td>\n",
       "      <td>0.0</td>\n",
       "    </tr>\n",
       "    <tr>\n",
       "      <th>promocao_ult_5anos</th>\n",
       "      <td>1.0</td>\n",
       "      <td>0.0</td>\n",
       "    </tr>\n",
       "    <tr>\n",
       "      <th>departamento_RandD</th>\n",
       "      <td>1.0</td>\n",
       "      <td>0.0</td>\n",
       "    </tr>\n",
       "    <tr>\n",
       "      <th>departamento_accounting</th>\n",
       "      <td>1.0</td>\n",
       "      <td>0.0</td>\n",
       "    </tr>\n",
       "    <tr>\n",
       "      <th>departamento_management</th>\n",
       "      <td>1.0</td>\n",
       "      <td>0.0</td>\n",
       "    </tr>\n",
       "    <tr>\n",
       "      <th>departamento_marketing</th>\n",
       "      <td>1.0</td>\n",
       "      <td>0.0</td>\n",
       "    </tr>\n",
       "    <tr>\n",
       "      <th>departamento_product_mng</th>\n",
       "      <td>1.0</td>\n",
       "      <td>0.0</td>\n",
       "    </tr>\n",
       "    <tr>\n",
       "      <th>departamento_rh</th>\n",
       "      <td>1.0</td>\n",
       "      <td>0.0</td>\n",
       "    </tr>\n",
       "    <tr>\n",
       "      <th>departamento_sales</th>\n",
       "      <td>1.0</td>\n",
       "      <td>0.0</td>\n",
       "    </tr>\n",
       "    <tr>\n",
       "      <th>departamento_support</th>\n",
       "      <td>1.0</td>\n",
       "      <td>0.0</td>\n",
       "    </tr>\n",
       "    <tr>\n",
       "      <th>departamento_technical</th>\n",
       "      <td>1.0</td>\n",
       "      <td>0.0</td>\n",
       "    </tr>\n",
       "    <tr>\n",
       "      <th>salario_low</th>\n",
       "      <td>1.0</td>\n",
       "      <td>0.0</td>\n",
       "    </tr>\n",
       "    <tr>\n",
       "      <th>salario_medium</th>\n",
       "      <td>1.0</td>\n",
       "      <td>0.0</td>\n",
       "    </tr>\n",
       "  </tbody>\n",
       "</table>\n",
       "</div>"
      ],
      "text/plain": [
       "                          max  min\n",
       "nivel_satisfacao          1.0  0.0\n",
       "ult_avaliacao             1.0  0.0\n",
       "num_projetos              1.0  0.0\n",
       "media_horas_mes           1.0  0.0\n",
       "tempo_empresa             1.0  0.0\n",
       "aci_trabalho              1.0  0.0\n",
       "saiu                      1.0  0.0\n",
       "promocao_ult_5anos        1.0  0.0\n",
       "departamento_RandD        1.0  0.0\n",
       "departamento_accounting   1.0  0.0\n",
       "departamento_management   1.0  0.0\n",
       "departamento_marketing    1.0  0.0\n",
       "departamento_product_mng  1.0  0.0\n",
       "departamento_rh           1.0  0.0\n",
       "departamento_sales        1.0  0.0\n",
       "departamento_support      1.0  0.0\n",
       "departamento_technical    1.0  0.0\n",
       "salario_low               1.0  0.0\n",
       "salario_medium            1.0  0.0"
      ]
     },
     "execution_count": 277,
     "metadata": {},
     "output_type": "execute_result"
    }
   ],
   "source": [
    "# Transporndo as variáveis para melhor visulização após a normalização\n",
    "\n",
    "pd.DataFrame([df.max(), df.min()], index= [\"max\", \"min\"]).T"
   ]
  },
  {
   "cell_type": "code",
   "execution_count": 278,
   "id": "extended-surrey",
   "metadata": {},
   "outputs": [
    {
     "data": {
      "text/html": [
       "<div>\n",
       "<style scoped>\n",
       "    .dataframe tbody tr th:only-of-type {\n",
       "        vertical-align: middle;\n",
       "    }\n",
       "\n",
       "    .dataframe tbody tr th {\n",
       "        vertical-align: top;\n",
       "    }\n",
       "\n",
       "    .dataframe thead th {\n",
       "        text-align: right;\n",
       "    }\n",
       "</style>\n",
       "<table border=\"1\" class=\"dataframe\">\n",
       "  <thead>\n",
       "    <tr style=\"text-align: right;\">\n",
       "      <th></th>\n",
       "      <th>nivel_satisfacao</th>\n",
       "      <th>ult_avaliacao</th>\n",
       "      <th>num_projetos</th>\n",
       "      <th>media_horas_mes</th>\n",
       "      <th>tempo_empresa</th>\n",
       "      <th>aci_trabalho</th>\n",
       "      <th>saiu</th>\n",
       "      <th>promocao_ult_5anos</th>\n",
       "      <th>departamento_RandD</th>\n",
       "      <th>departamento_accounting</th>\n",
       "      <th>departamento_management</th>\n",
       "      <th>departamento_marketing</th>\n",
       "      <th>departamento_product_mng</th>\n",
       "      <th>departamento_rh</th>\n",
       "      <th>departamento_sales</th>\n",
       "      <th>departamento_support</th>\n",
       "      <th>departamento_technical</th>\n",
       "      <th>salario_low</th>\n",
       "      <th>salario_medium</th>\n",
       "    </tr>\n",
       "  </thead>\n",
       "  <tbody>\n",
       "    <tr>\n",
       "      <th>0</th>\n",
       "      <td>0.318681</td>\n",
       "      <td>0.265625</td>\n",
       "      <td>0.0</td>\n",
       "      <td>0.285047</td>\n",
       "      <td>0.125</td>\n",
       "      <td>0.0</td>\n",
       "      <td>1.0</td>\n",
       "      <td>0.0</td>\n",
       "      <td>0.0</td>\n",
       "      <td>0.0</td>\n",
       "      <td>0.0</td>\n",
       "      <td>0.0</td>\n",
       "      <td>0.0</td>\n",
       "      <td>0.0</td>\n",
       "      <td>1.0</td>\n",
       "      <td>0.0</td>\n",
       "      <td>0.0</td>\n",
       "      <td>1.0</td>\n",
       "      <td>0.0</td>\n",
       "    </tr>\n",
       "    <tr>\n",
       "      <th>1</th>\n",
       "      <td>0.780220</td>\n",
       "      <td>0.781250</td>\n",
       "      <td>0.6</td>\n",
       "      <td>0.775701</td>\n",
       "      <td>0.500</td>\n",
       "      <td>0.0</td>\n",
       "      <td>1.0</td>\n",
       "      <td>0.0</td>\n",
       "      <td>0.0</td>\n",
       "      <td>0.0</td>\n",
       "      <td>0.0</td>\n",
       "      <td>0.0</td>\n",
       "      <td>0.0</td>\n",
       "      <td>0.0</td>\n",
       "      <td>1.0</td>\n",
       "      <td>0.0</td>\n",
       "      <td>0.0</td>\n",
       "      <td>0.0</td>\n",
       "      <td>1.0</td>\n",
       "    </tr>\n",
       "    <tr>\n",
       "      <th>2</th>\n",
       "      <td>0.021978</td>\n",
       "      <td>0.812500</td>\n",
       "      <td>1.0</td>\n",
       "      <td>0.822430</td>\n",
       "      <td>0.250</td>\n",
       "      <td>0.0</td>\n",
       "      <td>1.0</td>\n",
       "      <td>0.0</td>\n",
       "      <td>0.0</td>\n",
       "      <td>0.0</td>\n",
       "      <td>0.0</td>\n",
       "      <td>0.0</td>\n",
       "      <td>0.0</td>\n",
       "      <td>0.0</td>\n",
       "      <td>1.0</td>\n",
       "      <td>0.0</td>\n",
       "      <td>0.0</td>\n",
       "      <td>0.0</td>\n",
       "      <td>1.0</td>\n",
       "    </tr>\n",
       "    <tr>\n",
       "      <th>3</th>\n",
       "      <td>0.692308</td>\n",
       "      <td>0.796875</td>\n",
       "      <td>0.6</td>\n",
       "      <td>0.593458</td>\n",
       "      <td>0.375</td>\n",
       "      <td>0.0</td>\n",
       "      <td>1.0</td>\n",
       "      <td>0.0</td>\n",
       "      <td>0.0</td>\n",
       "      <td>0.0</td>\n",
       "      <td>0.0</td>\n",
       "      <td>0.0</td>\n",
       "      <td>0.0</td>\n",
       "      <td>0.0</td>\n",
       "      <td>1.0</td>\n",
       "      <td>0.0</td>\n",
       "      <td>0.0</td>\n",
       "      <td>1.0</td>\n",
       "      <td>0.0</td>\n",
       "    </tr>\n",
       "    <tr>\n",
       "      <th>4</th>\n",
       "      <td>0.307692</td>\n",
       "      <td>0.250000</td>\n",
       "      <td>0.0</td>\n",
       "      <td>0.294393</td>\n",
       "      <td>0.125</td>\n",
       "      <td>0.0</td>\n",
       "      <td>1.0</td>\n",
       "      <td>0.0</td>\n",
       "      <td>0.0</td>\n",
       "      <td>0.0</td>\n",
       "      <td>0.0</td>\n",
       "      <td>0.0</td>\n",
       "      <td>0.0</td>\n",
       "      <td>0.0</td>\n",
       "      <td>1.0</td>\n",
       "      <td>0.0</td>\n",
       "      <td>0.0</td>\n",
       "      <td>1.0</td>\n",
       "      <td>0.0</td>\n",
       "    </tr>\n",
       "  </tbody>\n",
       "</table>\n",
       "</div>"
      ],
      "text/plain": [
       "   nivel_satisfacao  ult_avaliacao  num_projetos  media_horas_mes  \\\n",
       "0          0.318681       0.265625           0.0         0.285047   \n",
       "1          0.780220       0.781250           0.6         0.775701   \n",
       "2          0.021978       0.812500           1.0         0.822430   \n",
       "3          0.692308       0.796875           0.6         0.593458   \n",
       "4          0.307692       0.250000           0.0         0.294393   \n",
       "\n",
       "   tempo_empresa  aci_trabalho  saiu  promocao_ult_5anos  departamento_RandD  \\\n",
       "0          0.125           0.0   1.0                 0.0                 0.0   \n",
       "1          0.500           0.0   1.0                 0.0                 0.0   \n",
       "2          0.250           0.0   1.0                 0.0                 0.0   \n",
       "3          0.375           0.0   1.0                 0.0                 0.0   \n",
       "4          0.125           0.0   1.0                 0.0                 0.0   \n",
       "\n",
       "   departamento_accounting  departamento_management  departamento_marketing  \\\n",
       "0                      0.0                      0.0                     0.0   \n",
       "1                      0.0                      0.0                     0.0   \n",
       "2                      0.0                      0.0                     0.0   \n",
       "3                      0.0                      0.0                     0.0   \n",
       "4                      0.0                      0.0                     0.0   \n",
       "\n",
       "   departamento_product_mng  departamento_rh  departamento_sales  \\\n",
       "0                       0.0              0.0                 1.0   \n",
       "1                       0.0              0.0                 1.0   \n",
       "2                       0.0              0.0                 1.0   \n",
       "3                       0.0              0.0                 1.0   \n",
       "4                       0.0              0.0                 1.0   \n",
       "\n",
       "   departamento_support  departamento_technical  salario_low  salario_medium  \n",
       "0                   0.0                     0.0          1.0             0.0  \n",
       "1                   0.0                     0.0          0.0             1.0  \n",
       "2                   0.0                     0.0          0.0             1.0  \n",
       "3                   0.0                     0.0          1.0             0.0  \n",
       "4                   0.0                     0.0          1.0             0.0  "
      ]
     },
     "execution_count": 278,
     "metadata": {},
     "output_type": "execute_result"
    }
   ],
   "source": [
    "df.head()"
   ]
  },
  {
   "cell_type": "markdown",
   "id": "dangerous-mirror",
   "metadata": {},
   "source": [
    "### Construção dos modelos"
   ]
  },
  {
   "cell_type": "code",
   "execution_count": 279,
   "id": "stock-beach",
   "metadata": {},
   "outputs": [],
   "source": [
    "from sklearn.neighbors import KNeighborsClassifier\n",
    "from sklearn.tree import DecisionTreeClassifier\n",
    "from sklearn.metrics import mean_absolute_error, accuracy_score, confusion_matrix"
   ]
  },
  {
   "cell_type": "code",
   "execution_count": 280,
   "id": "helpful-sheffield",
   "metadata": {},
   "outputs": [
    {
     "data": {
      "text/plain": [
       "Index(['nivel_satisfacao', 'ult_avaliacao', 'num_projetos', 'media_horas_mes',\n",
       "       'tempo_empresa', 'aci_trabalho', 'saiu', 'promocao_ult_5anos',\n",
       "       'departamento_RandD', 'departamento_accounting',\n",
       "       'departamento_management', 'departamento_marketing',\n",
       "       'departamento_product_mng', 'departamento_rh', 'departamento_sales',\n",
       "       'departamento_support', 'departamento_technical', 'salario_low',\n",
       "       'salario_medium'],\n",
       "      dtype='object')"
      ]
     },
     "execution_count": 280,
     "metadata": {},
     "output_type": "execute_result"
    }
   ],
   "source": [
    "df.columns"
   ]
  },
  {
   "cell_type": "code",
   "execution_count": 281,
   "id": "skilled-staff",
   "metadata": {},
   "outputs": [],
   "source": [
    "# Realocando a variável \"saiu\" para última posição\n",
    "\n",
    "df = df.reindex(columns=['nivel_satisfacao', 'ult_avaliacao', 'num_projetos', 'media_horas_mes',\n",
    "       'tempo_empresa', 'aci_trabalho', 'promocao_ult_5anos',\n",
    "       'departamento_RandD', 'departamento_accounting', 'departamento_rh',\n",
    "       'departamento_management', 'departamento_marketing',\n",
    "       'departamento_product_mng', 'departamento_sales',\n",
    "       'departamento_support', 'departamento_technical', 'salario_low',\n",
    "       'salario_medium','saiu'])"
   ]
  },
  {
   "cell_type": "code",
   "execution_count": 282,
   "id": "searching-alliance",
   "metadata": {},
   "outputs": [],
   "source": [
    "X = df.iloc[:, :-1]\n",
    "y = df.iloc[:, 18]"
   ]
  },
  {
   "cell_type": "markdown",
   "id": "metric-superior",
   "metadata": {},
   "source": [
    "### Treinamento do modelo KNN"
   ]
  },
  {
   "cell_type": "code",
   "execution_count": 283,
   "id": "above-admission",
   "metadata": {},
   "outputs": [],
   "source": [
    "from sklearn.neighbors import KNeighborsClassifier\n",
    "from sklearn.model_selection import train_test_split\n",
    "from sklearn.metrics import accuracy_score, confusion_matrix"
   ]
  },
  {
   "cell_type": "code",
   "execution_count": 284,
   "id": "overall-cross",
   "metadata": {},
   "outputs": [],
   "source": [
    "knn = KNeighborsClassifier(n_neighbors=3, leaf_size=4)"
   ]
  },
  {
   "cell_type": "code",
   "execution_count": 285,
   "id": "cubic-drain",
   "metadata": {},
   "outputs": [],
   "source": [
    "# Dividindo o dataset em treino e teste ( 80% teste, 20% treino)\n",
    "\n",
    "X_train, X_test, y_train, y_test = train_test_split(X, y, test_size=0.20, random_state=42)"
   ]
  },
  {
   "cell_type": "code",
   "execution_count": 286,
   "id": "after-turtle",
   "metadata": {},
   "outputs": [
    {
     "data": {
      "text/plain": [
       "KNeighborsClassifier(leaf_size=4, n_neighbors=3)"
      ]
     },
     "execution_count": 286,
     "metadata": {},
     "output_type": "execute_result"
    }
   ],
   "source": [
    "knn.fit(X_train, y_train)"
   ]
  },
  {
   "cell_type": "code",
   "execution_count": 287,
   "id": "chinese-equipment",
   "metadata": {},
   "outputs": [],
   "source": [
    "predicted = knn.predict(X_test)"
   ]
  },
  {
   "cell_type": "code",
   "execution_count": 288,
   "id": "applied-cassette",
   "metadata": {},
   "outputs": [
    {
     "data": {
      "text/plain": [
       "0.9559412550066756"
      ]
     },
     "execution_count": 288,
     "metadata": {},
     "output_type": "execute_result"
    }
   ],
   "source": [
    "accuracy_score(predicted,y_test)"
   ]
  },
  {
   "cell_type": "code",
   "execution_count": 289,
   "id": "mobile-retrieval",
   "metadata": {},
   "outputs": [
    {
     "data": {
      "text/plain": [
       "array([[2201,   39],\n",
       "       [  93,  663]], dtype=int64)"
      ]
     },
     "execution_count": 289,
     "metadata": {},
     "output_type": "execute_result"
    }
   ],
   "source": [
    "confusion_matrix(predicted, y_test)"
   ]
  },
  {
   "cell_type": "markdown",
   "id": "impressed-prototype",
   "metadata": {},
   "source": [
    "### Treinando modelo Decision Tree"
   ]
  },
  {
   "cell_type": "code",
   "execution_count": 290,
   "id": "impaired-chocolate",
   "metadata": {},
   "outputs": [],
   "source": [
    "from sklearn.tree import DecisionTreeClassifier"
   ]
  },
  {
   "cell_type": "code",
   "execution_count": 291,
   "id": "future-mechanism",
   "metadata": {},
   "outputs": [],
   "source": [
    "tree = DecisionTreeClassifier(random_state=2, max_depth=3)"
   ]
  },
  {
   "cell_type": "code",
   "execution_count": 292,
   "id": "infectious-calculation",
   "metadata": {},
   "outputs": [
    {
     "data": {
      "text/plain": [
       "DecisionTreeClassifier(max_depth=3, random_state=2)"
      ]
     },
     "execution_count": 292,
     "metadata": {},
     "output_type": "execute_result"
    }
   ],
   "source": [
    "tree.fit(X_train, y_train)"
   ]
  },
  {
   "cell_type": "code",
   "execution_count": 293,
   "id": "wired-branch",
   "metadata": {},
   "outputs": [
    {
     "data": {
      "text/plain": [
       "0.9576101468624834"
      ]
     },
     "execution_count": 293,
     "metadata": {},
     "output_type": "execute_result"
    }
   ],
   "source": [
    "accuracy_score(tree.predict(X_test), y_test)"
   ]
  },
  {
   "cell_type": "code",
   "execution_count": 294,
   "id": "capable-decision",
   "metadata": {},
   "outputs": [
    {
     "data": {
      "text/plain": [
       "array([[2219,   52],\n",
       "       [  75,  650]], dtype=int64)"
      ]
     },
     "execution_count": 294,
     "metadata": {},
     "output_type": "execute_result"
    }
   ],
   "source": [
    "confusion_matrix(tree.predict(X_test), y_test)"
   ]
  },
  {
   "cell_type": "markdown",
   "id": "initial-reading",
   "metadata": {},
   "source": [
    "### Validação cruzada dos modelos"
   ]
  },
  {
   "cell_type": "code",
   "execution_count": 295,
   "id": "juvenile-immunology",
   "metadata": {},
   "outputs": [],
   "source": [
    "from sklearn.model_selection import cross_val_score"
   ]
  },
  {
   "cell_type": "code",
   "execution_count": 296,
   "id": "incorrect-combination",
   "metadata": {},
   "outputs": [],
   "source": [
    "# KNN\n",
    "scores_knn = cross_val_score(knn, X, y, cv=5, scoring='accuracy')"
   ]
  },
  {
   "cell_type": "code",
   "execution_count": 297,
   "id": "broke-treatment",
   "metadata": {},
   "outputs": [
    {
     "data": {
      "text/plain": [
       "array([0.96662216, 0.93124166, 0.93457944, 0.95692821, 0.9509182 ])"
      ]
     },
     "execution_count": 297,
     "metadata": {},
     "output_type": "execute_result"
    }
   ],
   "source": [
    "scores_knn"
   ]
  },
  {
   "cell_type": "code",
   "execution_count": 298,
   "id": "proper-freeze",
   "metadata": {},
   "outputs": [
    {
     "data": {
      "text/plain": [
       "0.9480579336722753"
      ]
     },
     "execution_count": 298,
     "metadata": {},
     "output_type": "execute_result"
    }
   ],
   "source": [
    "# Média de validação cruzada knn\n",
    "\n",
    "scores_knn.mean()"
   ]
  },
  {
   "cell_type": "code",
   "execution_count": 299,
   "id": "sharp-congo",
   "metadata": {},
   "outputs": [
    {
     "data": {
      "text/plain": [
       "0.013386191408348846"
      ]
     },
     "execution_count": 299,
     "metadata": {},
     "output_type": "execute_result"
    }
   ],
   "source": [
    "# Desvio padrão\n",
    "\n",
    "scores_knn.std()"
   ]
  },
  {
   "cell_type": "code",
   "execution_count": 300,
   "id": "compliant-marshall",
   "metadata": {},
   "outputs": [],
   "source": [
    "# Decision Tree\n",
    "\n",
    "scores_tree = cross_val_score(tree, X, y, cv=5, scoring='accuracy')"
   ]
  },
  {
   "cell_type": "code",
   "execution_count": 301,
   "id": "pressing-boxing",
   "metadata": {},
   "outputs": [
    {
     "data": {
      "text/plain": [
       "array([0.96728972, 0.96128171, 0.95927904, 0.96293823, 0.91352254])"
      ]
     },
     "execution_count": 301,
     "metadata": {},
     "output_type": "execute_result"
    }
   ],
   "source": [
    "scores_tree"
   ]
  },
  {
   "cell_type": "code",
   "execution_count": 302,
   "id": "finished-hamilton",
   "metadata": {},
   "outputs": [
    {
     "data": {
      "text/plain": [
       "0.9528622470472594"
      ]
     },
     "execution_count": 302,
     "metadata": {},
     "output_type": "execute_result"
    }
   ],
   "source": [
    "# média de validação cruzada decision tree\n",
    "\n",
    "scores_tree.mean()"
   ]
  },
  {
   "cell_type": "code",
   "execution_count": 303,
   "id": "spectacular-investigator",
   "metadata": {},
   "outputs": [
    {
     "data": {
      "text/plain": [
       "0.019846171930905317"
      ]
     },
     "execution_count": 303,
     "metadata": {},
     "output_type": "execute_result"
    }
   ],
   "source": [
    "# Desvio padrão decision tree\n",
    "\n",
    "scores_tree.std()"
   ]
  },
  {
   "cell_type": "code",
   "execution_count": 304,
   "id": "mature-smooth",
   "metadata": {},
   "outputs": [
    {
     "data": {
      "text/plain": [
       "array([0.60565997, 0.14157733, 0.10372303, 0.00514267, 0.143897  ,\n",
       "       0.        , 0.        , 0.        , 0.        , 0.        ,\n",
       "       0.        , 0.        , 0.        , 0.        , 0.        ,\n",
       "       0.        , 0.        , 0.        ])"
      ]
     },
     "execution_count": 304,
     "metadata": {},
     "output_type": "execute_result"
    }
   ],
   "source": [
    "tree.feature_importances_"
   ]
  },
  {
   "cell_type": "code",
   "execution_count": 305,
   "id": "sophisticated-boost",
   "metadata": {},
   "outputs": [
    {
     "data": {
      "text/plain": [
       "<AxesSubplot:>"
      ]
     },
     "execution_count": 305,
     "metadata": {},
     "output_type": "execute_result"
    },
    {
     "data": {
      "image/png": "[encoded data removed]",
      "text/plain": [
       "<Figure size 432x288 with 1 Axes>"
      ]
     },
     "metadata": {
      "needs_background": "light"
     },
     "output_type": "display_data"
    }
   ],
   "source": [
    "pd.DataFrame(tree.feature_importances_, index=X.columns)[:5].plot(kind=\"bar\")"
   ]
  },
  {
   "cell_type": "markdown",
   "id": "capital-latex",
   "metadata": {},
   "source": [
    "### Deploy"
   ]
  },
  {
   "cell_type": "code",
   "execution_count": 306,
   "id": "utility-retail",
   "metadata": {},
   "outputs": [],
   "source": [
    "import pickle"
   ]
  },
  {
   "cell_type": "code",
   "execution_count": 307,
   "id": "disciplinary-monthly",
   "metadata": {},
   "outputs": [
    {
     "data": {
      "text/plain": [
       "DecisionTreeClassifier(max_depth=3, random_state=2)"
      ]
     },
     "execution_count": 307,
     "metadata": {},
     "output_type": "execute_result"
    }
   ],
   "source": [
    "tree.fit(X,y)"
   ]
  },
  {
   "cell_type": "code",
   "execution_count": 308,
   "id": "realistic-individual",
   "metadata": {},
   "outputs": [],
   "source": [
    "pickle.dump(tree, open(\"modelo_rh.pickle\", \"wb\"))"
   ]
  },
  {
   "cell_type": "code",
   "execution_count": 309,
   "id": "small-recorder",
   "metadata": {},
   "outputs": [],
   "source": [
    "tree_salva = pickle.load(open(\"modelo_rh.pickle\", \"rb\"))"
   ]
  },
  {
   "cell_type": "code",
   "execution_count": 310,
   "id": "regular-deficit",
   "metadata": {},
   "outputs": [
    {
     "data": {
      "text/plain": [
       "DecisionTreeClassifier(max_depth=3, random_state=2)"
      ]
     },
     "execution_count": 310,
     "metadata": {},
     "output_type": "execute_result"
    }
   ],
   "source": [
    "tree_salva"
   ]
  },
  {
   "cell_type": "code",
   "execution_count": 311,
   "id": "attached-shopping",
   "metadata": {},
   "outputs": [
    {
     "data": {
      "text/plain": [
       "array([0., 0., 0., ..., 1., 0., 0.])"
      ]
     },
     "execution_count": 311,
     "metadata": {},
     "output_type": "execute_result"
    }
   ],
   "source": [
    "tree_salva.predict(X_test)"
   ]
  }
 ],
 "metadata": {
  "kernelspec": {
   "display_name": "Python 3",
   "language": "python",
   "name": "python3"
  },
  "language_info": {
   "codemirror_mode": {
    "name": "ipython",
    "version": 3
   },
   "file_extension": ".py",
   "mimetype": "text/x-python",
   "name": "python",
   "nbconvert_exporter": "python",
   "pygments_lexer": "ipython3",
   "version": "3.8.8"
  }
 },
 "nbformat": 4,
 "nbformat_minor": 5
}
